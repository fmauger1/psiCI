{
 "cells": [
  {
   "cell_type": "markdown",
   "id": "d945aedd-1a04-43c1-b384-bd0dc8b1cc95",
   "metadata": {},
   "source": [
    "# psiCI: test module\n",
    "\n",
    "Test the results of configuration-interaction (CI) calculations using the `psiCI` module against known formulas for Hartree-Fock (HF) orbitals."
   ]
  },
  {
   "cell_type": "code",
   "execution_count": 1,
   "id": "9287acc5-5807-4254-a168-0cb51abd23d8",
   "metadata": {},
   "outputs": [],
   "source": [
    "import psi4\n",
    "import numpy as np\n",
    "import psiCI"
   ]
  },
  {
   "cell_type": "markdown",
   "id": "6411c091-e0de-4a07-9b26-de4fd59f0c00",
   "metadata": {},
   "source": [
    "# Molecular model\n",
    "\n",
    "Molecuar model we use for checking the `psiCI` module: set a close-shell molecular system and perform a HF ground-state calculation."
   ]
  },
  {
   "cell_type": "code",
   "execution_count": 2,
   "id": "5ac3de64-7e43-4b82-87f8-8d140c93e5b8",
   "metadata": {},
   "outputs": [],
   "source": [
    "# Molecular model\n",
    "mol = psi4.geometry(\"\"\"\n",
    "         0 1\n",
    "         H   0.865 0 0\n",
    "         Li -0.865 0 0\n",
    "         symmetry c1 \"\"\")\n",
    "\n",
    "#mol = psi4.geometry(\"\"\"\n",
    "#         0 1\n",
    "#         O\n",
    "#         H 1 1.0\n",
    "#         H 1 1.0 2 104.5\n",
    "#         symmetry c1 \"\"\")\n",
    "\n",
    "# HF ground state\n",
    "psi4.set_options({\n",
    "        'basis':        'cc-pvtz',\n",
    "        'scf_type':     'pk',\n",
    "        'reference':    'rhf',\n",
    "        'mp2_type':     'conv',\n",
    "        'e_convergence': 1e-9,\n",
    "        'd_convergence': 1e-9})\n",
    "#basis = sto-3g\n",
    "\n",
    "scf_e, wfn = psi4.energy('scf', return_wfn=True)"
   ]
  },
  {
   "cell_type": "markdown",
   "id": "7310ebcb-c926-4f59-a9ac-a08258b9b2d9",
   "metadata": {},
   "source": [
    "# CI model\n",
    "\n",
    "CI model, starting with single excitations (CIS)"
   ]
  },
  {
   "cell_type": "code",
   "execution_count": 3,
   "id": "24766e6f-aea3-4321-8df2-87f9b75ad4d3",
   "metadata": {},
   "outputs": [
    {
     "name": "stdout",
     "output_type": "stream",
     "text": [
      "The molecule has 2 occupied spatial orbitals\n",
      "\n",
      "The active spin orbitals are [-1 -2 -3 -6  1  2  3  6]\n",
      "\n",
      "\n",
      "################################################################################\n",
      "##       Configuration-interaction module for Psi4 with DFT/HF orbitals       ##\n",
      "################################################################################\n",
      "  * Author(s):     G. Visentin & F. Mauger\n",
      "  * Version:       00.01.004\n",
      "  * Last modified: 04/27/2025\n",
      "\n",
      "=== Configuration-state basis ==================================================\n",
      "  * Type        = CIS\n",
      "  * Nb. elec.   = 4\n",
      "  * Total spin  = 0.0\n",
      "  * Reference   = [-1 -2  1  2]\n",
      "  * Active      = [-1 -2 -3 -6]\n",
      "                = [1 2 3 6]\n",
      "  * 9 configurations\n",
      "\n",
      "################################################################################\n",
      "\n"
     ]
    }
   ],
   "source": [
    "# Create the CI-modle object\n",
    "PCI = psiCI.psiCI(wfn)\n",
    "\n",
    "# Set the CIS basis (including virtual orbitals 1 and 3)\n",
    "nMO = int(0.5*PCI.numberElectron)\n",
    "print(\"The molecule has \" + str(nMO) + \" occupied spatial orbitals\\n\")\n",
    "\n",
    "MO = np.concatenate((range(1,nMO+2), [nMO+4]))\n",
    "SO = np.concatenate((-MO,MO))\n",
    "print(\"The active spin orbitals are \" + str(SO) + \"\\n\\n\")\n",
    "\n",
    "PCI.setConfiguration(mode=\"CIS\",active=SO)"
   ]
  },
  {
   "cell_type": "markdown",
   "id": "eb9e66d0-6606-4cb2-881c-8eb4f053f755",
   "metadata": {},
   "source": [
    "We can now proceed with calculating the CI matrix."
   ]
  },
  {
   "cell_type": "code",
   "execution_count": 4,
   "id": "e1a4b5f0-85c7-43c3-9b21-ac18ae5e553b",
   "metadata": {},
   "outputs": [
    {
     "name": "stdout",
     "output_type": "stream",
     "text": [
      "################################################################################\n",
      "##       Configuration-interaction module for Psi4 with DFT/HF orbitals       ##\n",
      "################################################################################\n",
      "  * Author(s):     G. Visentin & F. Mauger\n",
      "  * Version:       00.01.004\n",
      "  * Last modified: 04/27/2025\n",
      "\n",
      "=== Electronic structure =======================================================\n",
      "  * 4 electrons\n",
      "  * 44 spatial orbitals\n",
      "  * 9 configurations\n",
      "\n",
      "=== Configuration-interaction calculation ======================================\n",
      "  * tolerance: 1e-10\n",
      "  * 4 active spatial orbitals\n",
      "\n",
      "=== CI matrix calculation ======================================================\n",
      "  * Core Hamiltonian                                                        done\n",
      "  * Two-electron integrals                                                  done\n",
      "  * CI matrix                                                               done\n",
      "\n",
      "################################################################################\n",
      "\n"
     ]
    }
   ],
   "source": [
    "CI = PCI.computeCI()"
   ]
  },
  {
   "cell_type": "markdown",
   "id": "3a823697-ba69-4245-b2b1-a587928ac415",
   "metadata": {},
   "source": [
    "As a sanity check, we perform a spectrum analysis of the CI matrix."
   ]
  },
  {
   "cell_type": "code",
   "execution_count": 5,
   "id": "c6d0d731-8efb-40a8-bf2f-a8600ad486a0",
   "metadata": {},
   "outputs": [
    {
     "name": "stdout",
     "output_type": "stream",
     "text": [
      "################################################################################\n",
      "##       Configuration-interaction module for Psi4 with DFT/HF orbitals       ##\n",
      "################################################################################\n",
      "  * Author(s):     G. Visentin & F. Mauger\n",
      "  * Version:       00.01.004\n",
      "  * Last modified: 04/27/2025\n",
      "\n",
      "=== CI matrix spectrum =========================================================\n",
      "  * Ground state\n",
      "    Total energy      =     -8.903 a.u. =   -242.255 eV\n",
      "    > 100.000 % [-1 -2  1  2]\n",
      "\n",
      "  * Excited state 1\n",
      "    Total energy      =     -8.777 a.u. =   -238.827 eV\n",
      "    Excitation energy =      0.126 a.u. =      3.429 eV\n",
      "    >   7.103 % [-1 -6  1  2]\n",
      "    >  42.896 % [-1 -3  1  2]\n",
      "    >  42.896 % [-1 -2  1  3]\n",
      "    >   7.103 % [-1 -2  1  6]\n",
      "\n",
      "  * Excited state 2\n",
      "    Total energy      =     -8.752 a.u. =   -238.143 eV\n",
      "    Excitation energy =      0.151 a.u. =      4.112 eV\n",
      "    >   2.193 % [-1 -6  1  2]\n",
      "    >  47.806 % [-1 -3  1  2]\n",
      "    >  47.806 % [-1 -2  1  3]\n",
      "    >   2.193 % [-1 -2  1  6]\n",
      "\n",
      "  * Excited state 3\n",
      "    Total energy      =     -8.672 a.u. =   -235.981 eV\n",
      "    Excitation energy =      0.231 a.u. =      6.274 eV\n",
      "    >  42.897 % [-1 -6  1  2]\n",
      "    >   7.103 % [-1 -3  1  2]\n",
      "    >   7.103 % [-1 -2  1  3]\n",
      "    >  42.897 % [-1 -2  1  6]\n",
      "\n",
      "  * Excited state 4\n",
      "    Total energy      =     -8.657 a.u. =   -235.571 eV\n",
      "    Excitation energy =      0.246 a.u. =      6.684 eV\n",
      "    >  47.807 % [-1 -6  1  2]\n",
      "    >   2.193 % [-1 -3  1  2]\n",
      "    >   2.193 % [-1 -2  1  3]\n",
      "    >  47.807 % [-1 -2  1  6]\n",
      "\n",
      "  * Excited state 5\n",
      "    Total energy      =     -6.693 a.u. =   -182.138 eV\n",
      "    Excitation energy =      2.209 a.u. =     60.118 eV\n",
      "    >   6.616 % [-6 -2  1  2]\n",
      "    >  43.383 % [-3 -2  1  2]\n",
      "    >  43.383 % [-1 -2  3  2]\n",
      "    >   6.616 % [-1 -2  6  2]\n",
      "\n",
      "################################################################################\n",
      "\n"
     ]
    }
   ],
   "source": [
    "PCI.analyzeSpectrum(CI,state=np.asarray(range(1,6)))"
   ]
  },
  {
   "cell_type": "markdown",
   "id": "6991c8a5-bfac-46be-8424-8576ffbb7410",
   "metadata": {},
   "source": [
    "# Test the CI results\n",
    "\n",
    "We now can move to checking the results of our CIS calculation\n",
    "\n",
    "## Symmetry of the CI matrix\n",
    "\n",
    "Since we are using real orbitals, we know that the CI matrix must be real symmetric."
   ]
  },
  {
   "cell_type": "code",
   "execution_count": 6,
   "id": "2b1cbb04-f236-42c7-b7bd-43d4c2e45077",
   "metadata": {},
   "outputs": [
    {
     "name": "stdout",
     "output_type": "stream",
     "text": [
      "Symmetry of the CI matrix\n",
      "  > Pass\n"
     ]
    }
   ],
   "source": [
    "print(\"Symmetry of the CI matrix\")\n",
    "if np.all((CI.T-CI) == 0):\n",
    "    print(\"  > Pass\")\n",
    "else:\n",
    "    print(\"  > Fail\")"
   ]
  },
  {
   "cell_type": "markdown",
   "id": "162c9a67-deca-4fd8-bf41-49b0232fd8c4",
   "metadata": {},
   "source": [
    "## Reference energy\n",
    "\n",
    "By construction, we know that the energy of the reference in the CI matrix must match that of the HF calculation"
   ]
  },
  {
   "cell_type": "code",
   "execution_count": 7,
   "id": "56115c7a-fa49-4b0f-9aa0-aeb592cfc28b",
   "metadata": {},
   "outputs": [
    {
     "name": "stdout",
     "output_type": "stream",
     "text": [
      "Check reference energy (a.u.)\n",
      "  * HF energy = -8.90271801769431\n",
      "  * CI energy = -8.90271801769433\n",
      "  > Pass\n"
     ]
    }
   ],
   "source": [
    "# Recover energies\n",
    "EHF = scf_e - mol.nuclear_repulsion_energy()\n",
    "ECI = CI[0,0]\n",
    "\n",
    "# Display results\n",
    "print(\"Check reference energy (a.u.)\")\n",
    "print(\"  * HF energy = \" + str(EHF))\n",
    "print(\"  * CI energy = \" + str(ECI))\n",
    "if np.abs(EHF-ECI) < 1e-8:\n",
    "    print(\"  > Pass\")\n",
    "else:\n",
    "    print(\"  > Fail\")"
   ]
  },
  {
   "cell_type": "markdown",
   "id": "2a3e9b5a-390d-4183-bdf2-3f65b2560d76",
   "metadata": {},
   "source": [
    "## Brillouin's theorem\n",
    "\n",
    "For HF orbitals, Brillouin's theorem states that there are no mixing between the HF ground-state and single-excitation wave functions."
   ]
  },
  {
   "cell_type": "code",
   "execution_count": 8,
   "id": "ab9a9240-6daa-4e94-bded-eb068a023abc",
   "metadata": {},
   "outputs": [
    {
     "name": "stdout",
     "output_type": "stream",
     "text": [
      "Brillouin's theorem\n",
      "  > Pass\n"
     ]
    }
   ],
   "source": [
    "print(\"Brillouin's theorem\")\n",
    "if np.all(np.abs(CI[0,1:]) < 1e-8):\n",
    "    print(\"  > Pass\")\n",
    "else:\n",
    "    print(\"  > Fail\" + str(CI[0,1:]))"
   ]
  },
  {
   "cell_type": "markdown",
   "id": "7da8b807-0e05-4f44-9ede-f08ae936c009",
   "metadata": {},
   "source": [
    "## Single-excitation elements\n",
    "\n",
    "Single-excitation elements correspond to the coupling between two single excitation configuration states and are given by (assuming real-valued spin orbitals)\n",
    "\n",
    "$$\\langle \\psi_a^r | \\hat{\\mathcal{H}} | \\psi_b^s \\rangle = E_0 \\delta_{ab}\\delta_{rs} + F_{rs}\\delta_{ab} - F_{ab}\\delta_{rs} + \\langle rb | as \\rangle - \\langle rb | sa \\rangle$$\n",
    "\n",
    "where $E_0$ is the HF ground-state energy and with\n",
    "\n",
    "$$F_{ab} = \\langle a | \\hat{h} | b \\rangle + \\sum_{k\\in\\psi} \\langle ak | bk\\rangle - \\langle ak | kb\\rangle$$\n",
    "\n",
    "First we look at the diagonal elements, where $a=b$ and $r=s$"
   ]
  },
  {
   "cell_type": "code",
   "execution_count": 9,
   "id": "742f8c3c-ad7e-4f7e-b3ed-ede8bf7a78f8",
   "metadata": {},
   "outputs": [
    {
     "name": "stdout",
     "output_type": "stream",
     "text": [
      "Diagonal single-excitation elements\n",
      "  > Pass excited configuration 1\n",
      "  > Pass excited configuration 2\n",
      "  > Pass excited configuration 3\n",
      "  > Pass excited configuration 4\n",
      "  > Pass excited configuration 5\n",
      "  > Pass excited configuration 6\n",
      "  > Pass excited configuration 7\n",
      "  > Pass excited configuration 8\n"
     ]
    }
   ],
   "source": [
    "# Initialization\n",
    "print(\"Diagonal single-excitation elements\")\n",
    "\n",
    "mints = psi4.core.MintsHelper(wfn.basisset())\n",
    "ref   = PCI.configuration[0,:]\n",
    "\n",
    "C = np.asarray(wfn.Ca())\n",
    "H = np.asarray(mints.ao_kinetic()) + np.asarray(mints.ao_potential())\n",
    "H = C.T @ H @ C\n",
    "\n",
    "# Check elements\n",
    "for n in range(1,CI.shape[0]):\n",
    "    # Initialization\n",
    "    exc = PCI.configuration[n,:]\n",
    "    \n",
    "    # Identify the excitation\n",
    "    ic = np.intersect1d(ref,exc,assume_unique=True)\n",
    "    a  = np.setdiff1d(ref,ic,assume_unique=True)\n",
    "    r  = np.setdiff1d(exc,ic,assume_unique=True)\n",
    "\n",
    "    aa = np.abs(a)-1\n",
    "    ar = np.abs(r)-1\n",
    "\n",
    "    # Calculate the CI matrix element\n",
    "    Ca = psi4.core.Matrix.from_array(C[:,aa].reshape(-1, 1))\n",
    "    Cr = psi4.core.Matrix.from_array(C[:,ar].reshape(-1, 1))\n",
    "    \n",
    "    E  = CI[0,0] + H[ar,ar] - H[aa,aa]\n",
    "    E += np.asarray(mints.mo_eri(Cr,Ca,Ca,Cr))[0,0,0,0]                  #<ra|ar> = [ra|ar] (Note: a and r have the same spin)\n",
    "    E -= np.asarray(mints.mo_eri(Cr,Cr,Ca,Ca))[0,0,0,0]                  #<ra|ra> = [rr|aa]\n",
    "\n",
    "    for k in ref:\n",
    "        Ck = psi4.core.Matrix.from_array(C[:,np.abs(k)-1].reshape(-1, 1))\n",
    "        E += np.asarray(mints.mo_eri(Cr,Cr,Ck,Ck))[0,0,0,0]              #<rk|rk> = [rr|kk]\n",
    "        E -= np.asarray(mints.mo_eri(Cr,Ck,Ck,Cr))[0,0,0,0] * (r*k > 0)  #<rk|kr> = [rk|kr]\n",
    "        E -= np.asarray(mints.mo_eri(Ca,Ca,Ck,Ck))[0,0,0,0]              #<ak|ak> = [aa|kk]\n",
    "        E += np.asarray(mints.mo_eri(Ca,Ck,Ck,Ca))[0,0,0,0] * (a*k > 0)  #<ak|ka> = [ak|ka]\n",
    "\n",
    "    # Display result\n",
    "    if np.abs(E - CI[n,n]) < 1e-8:\n",
    "        print(\"  > Pass excited configuration \" + str(n))\n",
    "    else:\n",
    "        print(\"  > Fail excited configuration \" + str(n) + \" | error = \" + str(E - CI[n,n]))"
   ]
  },
  {
   "cell_type": "markdown",
   "id": "cc2fb1e7-ccd0-4cf9-89ba-0c5cf2974826",
   "metadata": {},
   "source": [
    "We now look at the off-diagonal elements, where $a\\neq b$ or $r\\neq s$"
   ]
  },
  {
   "cell_type": "code",
   "execution_count": 10,
   "id": "c4d92385-9328-4a39-bb78-5d799a973757",
   "metadata": {},
   "outputs": [
    {
     "name": "stdout",
     "output_type": "stream",
     "text": [
      "Off-diagonal single-excitation elements\n",
      "  > Pass excited configuration 1, 2\n",
      "  > Pass excited configuration 1, 3\n",
      "  > Pass excited configuration 1, 4\n",
      "  > Pass excited configuration 1, 5\n",
      "  > Pass excited configuration 1, 6\n",
      "  > Pass excited configuration 1, 7\n",
      "  > Pass excited configuration 1, 8\n",
      "  > Pass excited configuration 2, 3\n",
      "  > Pass excited configuration 2, 4\n",
      "  > Pass excited configuration 2, 5\n",
      "  > Pass excited configuration 2, 6\n",
      "  > Pass excited configuration 2, 7\n",
      "  > Pass excited configuration 2, 8\n",
      "  > Pass excited configuration 3, 4\n",
      "  > Pass excited configuration 3, 5\n",
      "  > Pass excited configuration 3, 6\n",
      "  > Pass excited configuration 3, 7\n",
      "  > Pass excited configuration 3, 8\n",
      "  > Pass excited configuration 4, 5\n",
      "  > Pass excited configuration 4, 6\n",
      "  > Pass excited configuration 4, 7\n",
      "  > Pass excited configuration 4, 8\n",
      "  > Pass excited configuration 5, 6\n",
      "  > Pass excited configuration 5, 7\n",
      "  > Pass excited configuration 5, 8\n",
      "  > Pass excited configuration 6, 7\n",
      "  > Pass excited configuration 6, 8\n",
      "  > Pass excited configuration 7, 8\n"
     ]
    }
   ],
   "source": [
    "# Check elements\n",
    "print(\"Off-diagonal single-excitation elements\")\n",
    "for n in range(1,CI.shape[0]):\n",
    "    for m in range(n+1,CI.shape[0]):\n",
    "        # Identify the excitations\n",
    "        exc = PCI.configuration[n,:]\n",
    "        ic  = np.intersect1d(ref,exc,assume_unique=True)\n",
    "        a   = np.setdiff1d(ref,ic,assume_unique=True)\n",
    "        r   = np.setdiff1d(exc,ic,assume_unique=True)\n",
    "        \n",
    "        exc = PCI.configuration[m,:]\n",
    "        ic  = np.intersect1d(ref,exc,assume_unique=True)\n",
    "        b   = np.setdiff1d(ref,ic,assume_unique=True)\n",
    "        t   = np.setdiff1d(exc,ic,assume_unique=True)\n",
    "\n",
    "        aa = np.abs(a)-1\n",
    "        ab = np.abs(b)-1\n",
    "        ar = np.abs(r)-1\n",
    "        at = np.abs(t)-1\n",
    "        \n",
    "        # Calculate the CI matrix element\n",
    "        Ca = psi4.core.Matrix.from_array(C[:,aa].reshape(-1, 1))\n",
    "        Cb = psi4.core.Matrix.from_array(C[:,ab].reshape(-1, 1))\n",
    "        Cr = psi4.core.Matrix.from_array(C[:,ar].reshape(-1, 1))\n",
    "        Ct = psi4.core.Matrix.from_array(C[:,at].reshape(-1, 1))\n",
    "\n",
    "        E  = np.asarray(mints.mo_eri(Cr,Ca,Cb,Ct))[0,0,0,0]              #<rb|at> = [ra|bt] (note r and a, and t and b have the same spin)\n",
    "        E -= np.asarray(mints.mo_eri(Cr,Ct,Cb,Ca))[0,0,0,0] * (a*b > 0)  #<rb|ta> = [rt|ba]\n",
    "\n",
    "        if (a == b) and (r*t > 0):\n",
    "            E += H[ar,at]\n",
    "            \n",
    "            for k in ref:\n",
    "                Ck = psi4.core.Matrix.from_array(C[:,np.abs(k)-1].reshape(-1, 1))\n",
    "                E += np.asarray(mints.mo_eri(Cr,Ct,Ck,Ck))[0,0,0,0]              #<rk|tk> = [rt|kk]\n",
    "                E -= np.asarray(mints.mo_eri(Cr,Ck,Ck,Ct))[0,0,0,0] * (r*k > 0)  #<rk|kt> = [rk|kt]\n",
    "\n",
    "        if (r == t) and (a*b > 0):\n",
    "            E -= H[aa,ab]\n",
    "            \n",
    "            for k in ref:\n",
    "                Ck = psi4.core.Matrix.from_array(C[:,np.abs(k)-1].reshape(-1, 1))\n",
    "                E -= np.asarray(mints.mo_eri(Ca,Cb,Ck,Ck))[0,0,0,0]              #<ak|bk> = [ab|kk]\n",
    "                E += np.asarray(mints.mo_eri(Ca,Ck,Ck,Cb))[0,0,0,0] * (a*k > 0)  #<ak|kb> = [ak|kb]\n",
    "            \n",
    "        # Display result\n",
    "        if np.abs(E - CI[n,m]) < 1e-8:\n",
    "            print(\"  > Pass excited configuration \" + str(n) + \", \" + str(m))\n",
    "        else:\n",
    "            print(\"  > Fail excited configuration \" + str(n) + \", \" + str(m) + \" | error = \" + str(E - CI[n,m]))"
   ]
  },
  {
   "cell_type": "markdown",
   "id": "53b849fa-bb4f-447c-90b5-ae7d3c13c7a1",
   "metadata": {},
   "source": [
    "# Test the configuration-state builder\n",
    "\n",
    "In this section, we test the automated routines for building the configuration-state basis.\n",
    "\n",
    "## CIS\n",
    "\n",
    "First we check the configuration state basis for single-reference CIS with user-defined `reference` and `active` spaces"
   ]
  },
  {
   "cell_type": "code",
   "execution_count": 11,
   "id": "b5b09bc5-ee93-4b13-812e-aff4cb2ef1ce",
   "metadata": {},
   "outputs": [
    {
     "name": "stdout",
     "output_type": "stream",
     "text": [
      "################################################################################\n",
      "##       Configuration-interaction module for Psi4 with DFT/HF orbitals       ##\n",
      "################################################################################\n",
      "  * Author(s):     G. Visentin & F. Mauger\n",
      "  * Version:       00.01.004\n",
      "  * Last modified: 04/27/2025\n",
      "\n",
      "=== Configuration-state basis ==================================================\n",
      "  * Type        = CIS\n",
      "  * Nb. elec.   = 5\n",
      "  * Total spin  = -0.5\n",
      "  * Reference   = [-1 -2 -3  1  2]\n",
      "  * Active      = [-3 -5 -6]\n",
      "                = [1 3 4 5]\n",
      "  * 13 configurations\n",
      "\n",
      "################################################################################\n",
      "\n",
      "Single-reference CIS\n",
      "  > Pass number of electrons\n",
      "  > Pass configuration state basis\n"
     ]
    }
   ],
   "source": [
    "# Configuration state basis\n",
    "PCI.setConfiguration(mode=\"CIS\",reference=np.array([-1,-2,-3,1,2]),active=np.array([-3,-5,-6,1,3,4,5]))\n",
    "\n",
    "CSB    = np.unique(np.sort(PCI.configuration,axis=1),axis=0)\n",
    "CSB_th = np.unique(np.sort(np.array([[-1,-2,-3,1,2],\n",
    "                                     [-5,-2,-3,1,2],[-6,-2,-3,1,2],\n",
    "                                     [-1,-5,-3,1,2],[-1,-6,-3,1,2],\n",
    "                                     [-1,-2,-5,1,2],[-1,-2,-6,1,2],\n",
    "                                     [-1,-2,-3,3,2],[-1,-2,-3,4,2],[-1,-2,-3,5,2],\n",
    "                                     [-1,-2,-3,1,3],[-1,-2,-3,1,4],[-1,-2,-3,1,5]]),axis=1),axis=0)\n",
    "\n",
    "# Check results\n",
    "print(\"Single-reference CIS\")\n",
    "\n",
    "if PCI.numberElectron == 5:\n",
    "    print(\"  > Pass number of electrons\")\n",
    "else:\n",
    "    print(\"  > Fail number of electrons\")\n",
    "\n",
    "if np.all(CSB == CSB_th):\n",
    "    print(\"  > Pass configuration state basis\")\n",
    "else:\n",
    "    print(\"  > Fail  configuration state basis\")"
   ]
  },
  {
   "cell_type": "markdown",
   "id": "d4ef478a-3e18-4cf8-b332-2684f4dd296d",
   "metadata": {},
   "source": [
    "Now we add constraints on frozen orbitals"
   ]
  },
  {
   "cell_type": "code",
   "execution_count": 12,
   "id": "31b62424-f919-4142-b256-abf93ebb76a7",
   "metadata": {},
   "outputs": [
    {
     "name": "stdout",
     "output_type": "stream",
     "text": [
      "################################################################################\n",
      "##       Configuration-interaction module for Psi4 with DFT/HF orbitals       ##\n",
      "################################################################################\n",
      "  * Author(s):     G. Visentin & F. Mauger\n",
      "  * Version:       00.01.004\n",
      "  * Last modified: 04/27/2025\n",
      "\n",
      "=== Configuration-state basis ==================================================\n",
      "  * Type        = CIS\n",
      "  * Nb. elec.   = 5\n",
      "  * Total spin  = -0.5\n",
      "  * Reference   = [-1 -2 -3  1  2]\n",
      "  * Active      = [-3 -5 -6]\n",
      "                = [1 3 4 5]\n",
      "  * Frozen      = [-2  1]\n",
      "  * 8 configurations\n",
      "\n",
      "################################################################################\n",
      "\n",
      "Single-reference CIS with frozen orbitals\n",
      "  > Pass configuration state basis\n"
     ]
    }
   ],
   "source": [
    "# Configuration state basis\n",
    "PCI.setConfiguration(mode=\"CIS\",reference=np.array([-1,-2,-3,1,2]),active=np.array([-3,-5,-6,1,3,4,5]),frozen=np.array([-2,1]))\n",
    "\n",
    "CSB    = np.unique(np.sort(PCI.configuration,axis=1),axis=0)\n",
    "CSB_th = np.unique(np.sort(np.array([[-1,-2,-3,1,2],\n",
    "                                     [-5,-2,-3,1,2],[-6,-2,-3,1,2],\n",
    "                                     [-1,-2,-5,1,2],[-1,-2,-6,1,2],\n",
    "                                     [-1,-2,-3,1,3],[-1,-2,-3,1,4],[-1,-2,-3,1,5]]),axis=1),axis=0)\n",
    "\n",
    "# Check results\n",
    "print(\"Single-reference CIS with frozen orbitals\")\n",
    "\n",
    "if np.all(CSB == CSB_th):\n",
    "    print(\"  > Pass configuration state basis\")\n",
    "else:\n",
    "    print(\"  > Fail  configuration state basis\")"
   ]
  },
  {
   "cell_type": "markdown",
   "id": "a3451f5e-6402-49f0-92fe-f96274a6629e",
   "metadata": {},
   "source": []
  },
  {
   "cell_type": "markdown",
   "id": "c3742221-1740-4de4-8ef3-cae84d746165",
   "metadata": {},
   "source": [
    "Add constraints on double ionizations"
   ]
  },
  {
   "cell_type": "code",
   "execution_count": 13,
   "id": "be0abba3-2651-4aae-b3ed-dcf5ecf12585",
   "metadata": {},
   "outputs": [
    {
     "name": "stdout",
     "output_type": "stream",
     "text": [
      "################################################################################\n",
      "##       Configuration-interaction module for Psi4 with DFT/HF orbitals       ##\n",
      "################################################################################\n",
      "  * Author(s):     G. Visentin & F. Mauger\n",
      "  * Version:       00.01.004\n",
      "  * Last modified: 04/27/2025\n",
      "\n",
      "=== Configuration-state basis ==================================================\n",
      "  * Type        = CIS\n",
      "  * Nb. elec.   = 5\n",
      "  * Total spin  = -0.5\n",
      "  * Reference   = [-1 -2 -3  1  2]\n",
      "  * Active      = [-3 -5 -6]\n",
      "                = [1 3 4 5]\n",
      "  * No double   = [2 3]\n",
      "  * 5 configurations\n",
      "\n",
      "################################################################################\n",
      "\n",
      "Single-reference CIS with constraints on double excitations\n",
      "  > Pass configuration state basis\n"
     ]
    }
   ],
   "source": [
    "# Configuration state basis\n",
    "PCI.setConfiguration(mode=\"CIS\",reference=np.array([-1,-2,-3,1,2]),active=np.array([-3,-5,-6,1,3,4,5]),noDouble=np.array([2,3]))\n",
    "\n",
    "CSB    = np.unique(np.sort(PCI.configuration,axis=1),axis=0)\n",
    "CSB_th = np.unique(np.sort(np.array([[-1,-2,-3,1,2],\n",
    "                                     [-1,-5,-3,1,2],[-1,-6,-3,1,2],\n",
    "                                     [-1,-2,-3,1,4],[-1,-2,-3,1,5]]),axis=1),axis=0)\n",
    "\n",
    "# Check results\n",
    "print(\"Single-reference CIS with constraints on double excitations\")\n",
    "\n",
    "if np.all(CSB == CSB_th):\n",
    "    print(\"  > Pass configuration state basis\")\n",
    "else:\n",
    "    print(\"  > Fail  configuration state basis\")"
   ]
  },
  {
   "cell_type": "markdown",
   "id": "2d0fe319-cf11-4326-bb80-5301bb359382",
   "metadata": {},
   "source": [
    "Add constraints on empty orbitals"
   ]
  },
  {
   "cell_type": "code",
   "execution_count": 14,
   "id": "22ffee12-d3cd-4ecb-8b2e-8ea548953aa0",
   "metadata": {},
   "outputs": [
    {
     "name": "stdout",
     "output_type": "stream",
     "text": [
      "################################################################################\n",
      "##       Configuration-interaction module for Psi4 with DFT/HF orbitals       ##\n",
      "################################################################################\n",
      "  * Author(s):     G. Visentin & F. Mauger\n",
      "  * Version:       00.01.004\n",
      "  * Last modified: 04/27/2025\n",
      "\n",
      "=== Configuration-state basis ==================================================\n",
      "  * Type        = CIS\n",
      "  * Nb. elec.   = 5\n",
      "  * Total spin  = -0.5\n",
      "  * Reference   = [-1 -2 -3  1  2]\n",
      "  * Active      = [-3 -5 -6]\n",
      "                = [1 3 4 5]\n",
      "  * No double   = [2 3]\n",
      "  * Not empty   = [3 5]\n",
      "  * 3 configurations\n",
      "\n",
      "################################################################################\n",
      "\n",
      "Single-reference CIS with constraints on empty orbitals\n",
      "  > Pass configuration state basis\n"
     ]
    }
   ],
   "source": [
    "# Configuration state basis\n",
    "PCI.setConfiguration(mode=\"CIS\",reference=np.array([-1,-2,-3,1,2]),active=np.array([-3,-5,-6,1,3,4,5]),noDouble=np.array([2,3]),noEmpty=np.array([3,5]))\n",
    "\n",
    "CSB    = np.unique(np.sort(PCI.configuration,axis=1),axis=0)\n",
    "CSB_th = np.unique(np.sort(np.array([[-1,-2,-3,1,2],[-1,-5,-3,1,2],[-1,-2,-3,1,5]]),axis=1),axis=0)\n",
    "\n",
    "# Check results\n",
    "print(\"Single-reference CIS with constraints on empty orbitals\")\n",
    "\n",
    "if np.all(CSB == CSB_th):\n",
    "    print(\"  > Pass configuration state basis\")\n",
    "else:\n",
    "    print(\"  > Fail  configuration state basis\")"
   ]
  },
  {
   "cell_type": "markdown",
   "id": "ea1cae4b-6e77-4ce9-8c62-6e13546d1d90",
   "metadata": {},
   "source": [
    "Finally, we check the configuration state basis for multi-reference CIS"
   ]
  },
  {
   "cell_type": "code",
   "execution_count": 15,
   "id": "2a5b35cf-3ce7-4679-b3de-9203349d0e76",
   "metadata": {},
   "outputs": [
    {
     "name": "stdout",
     "output_type": "stream",
     "text": [
      "################################################################################\n",
      "##       Configuration-interaction module for Psi4 with DFT/HF orbitals       ##\n",
      "################################################################################\n",
      "  * Author(s):     G. Visentin & F. Mauger\n",
      "  * Version:       00.01.004\n",
      "  * Last modified: 04/27/2025\n",
      "\n",
      "=== Configuration-state basis ==================================================\n",
      "  * Type        = CIS\n",
      "  * Nb. elec.   = 5\n",
      "  * Total spin  = [-0.5 -0.5]\n",
      "  * References  = [-1 -2 -3  1  2]\n",
      "                  [-1 -2 -4  1  2]\n",
      "  * Active      = [-3 -5 -6]\n",
      "                = [1 3 4 5]\n",
      "  * Frozen      = [-1 -2  1]\n",
      "  * 10 configurations\n",
      "\n",
      "################################################################################\n",
      "\n",
      "Multi-reference CIS\n",
      "  > Pass configuration state basis\n"
     ]
    }
   ],
   "source": [
    "# Configuration state basis\n",
    "PCI.setConfiguration(mode=\"CIS\",reference=np.array([[-1,-2,-3,1,2],[-1,-2,-4,1,2]]),active=np.array([-3,-5,-6,1,3,4,5]),frozen=np.array([-1,-2,1]))\n",
    "\n",
    "CSB    = np.unique(np.sort(PCI.configuration,axis=1),axis=0)\n",
    "CSB_th = np.unique(np.sort(np.array([[-1,-2,-3,1,2],[-1,-2,-4,1,2],\n",
    "                                     [-1,-2,-5,1,2],[-1,-2,-6,1,2],\n",
    "                                     [-1,-2,-3,1,3],[-1,-2,-3,1,4],[-1,-2,-3,1,5],\n",
    "                                     [-1,-2,-4,1,3],[-1,-2,-4,1,4],[-1,-2,-4,1,5]]),axis=1),axis=0)\n",
    "\n",
    "# Check results\n",
    "print(\"Multi-reference CIS\")\n",
    "\n",
    "if np.all(CSB == CSB_th):\n",
    "    print(\"  > Pass configuration state basis\")\n",
    "else:\n",
    "    print(\"  > Fail  configuration state basis\")"
   ]
  },
  {
   "cell_type": "markdown",
   "id": "56c1e84b-a6e5-47e0-bc7e-65c1a0281e65",
   "metadata": {},
   "source": [
    "## CISD\n",
    "\n",
    "We now perform a similar verification of the configuration state basis building for single-reference CISD model (here testing all the basis options at once)"
   ]
  },
  {
   "cell_type": "code",
   "execution_count": 16,
   "id": "7f86e7b2-efcc-454b-b53d-8800434021ea",
   "metadata": {},
   "outputs": [
    {
     "name": "stdout",
     "output_type": "stream",
     "text": [
      "################################################################################\n",
      "##       Configuration-interaction module for Psi4 with DFT/HF orbitals       ##\n",
      "################################################################################\n",
      "  * Author(s):     G. Visentin & F. Mauger\n",
      "  * Version:       00.01.004\n",
      "  * Last modified: 04/27/2025\n",
      "\n",
      "=== Configuration-state basis ==================================================\n",
      "  * Type        = CISD\n",
      "  * Nb. elec.   = 5\n",
      "  * Total spin  = 0.5\n",
      "  * Reference   = [-1 -3  1  2  3]\n",
      "  * Active      = [-1 -2 -5]\n",
      "                = [3 5 6]\n",
      "  * Frozen      = [-1  3]\n",
      "  * No double   = [5]\n",
      "  * Not empty   = [3 5]\n",
      "  * 9 configurations\n",
      "\n",
      "################################################################################\n",
      "\n",
      "Single-reference CISD\n",
      "  > Pass configuration state basis\n"
     ]
    }
   ],
   "source": [
    "# Configuration state basis\n",
    "PCI.setConfiguration(mode=\"CISD\",reference=np.array([-1,-3,1,2,3]),active=np.array([-1,-2,-5,3,5,6]),\n",
    "                     frozen=np.array([-1,3]),noDouble=np.array([5]),noEmpty=np.array([3,5]))\n",
    "\n",
    "CSB    = np.unique(np.sort(PCI.configuration,axis=1),axis=0)\n",
    "CSB_th = np.unique(np.sort(np.array([[-1,-3,1,2,3],\n",
    "                                     [-1,-5,1,2,3],[-1,-3,5,2,3],[-1,-3,1,5,3],[-1,-3,5,6,3],\n",
    "                                     [-1,-2,5,2,3],[-1,-2,1,5,3],\n",
    "                                     [-1,-5,6,2,3],[-1,-5,1,6,3]]),axis=1),axis=0)\n",
    "\n",
    "# Check results\n",
    "print(\"Single-reference CISD\")\n",
    "\n",
    "if np.all(CSB == CSB_th):\n",
    "    print(\"  > Pass configuration state basis\")\n",
    "else:\n",
    "    print(\"  > Fail  configuration state basis\")"
   ]
  },
  {
   "cell_type": "markdown",
   "id": "2ce98176-4f2d-458c-90cc-1fb96eeb9c8a",
   "metadata": {},
   "source": [
    "Next, we check multi-reference CISD."
   ]
  },
  {
   "cell_type": "code",
   "execution_count": 17,
   "id": "10381259-1bb5-40cf-be4f-08fdfa32873f",
   "metadata": {},
   "outputs": [
    {
     "name": "stdout",
     "output_type": "stream",
     "text": [
      "################################################################################\n",
      "##       Configuration-interaction module for Psi4 with DFT/HF orbitals       ##\n",
      "################################################################################\n",
      "  * Author(s):     G. Visentin & F. Mauger\n",
      "  * Version:       00.01.004\n",
      "  * Last modified: 04/27/2025\n",
      "\n",
      "=== Configuration-state basis ==================================================\n",
      "  * Type        = CISD\n",
      "  * Nb. elec.   = 5\n",
      "  * Total spin  = [0.5 0.5]\n",
      "  * References  = [-1 -3  1  2  3]\n",
      "                  [-1 -2  1  2  3]\n",
      "  * Active      = [-1 -2 -5]\n",
      "                = [3 5 6]\n",
      "  * Frozen      = [-1  1  2]\n",
      "  * 9 configurations\n",
      "\n",
      "################################################################################\n",
      "\n",
      "Multi-reference CISD\n",
      "  > Pass configuration state basis\n"
     ]
    }
   ],
   "source": [
    "# Configuration state basis\n",
    "PCI.setConfiguration(mode=\"CISD\",reference=np.array([[-1,-3,1,2,3],[-1,-2,1,2,3]]),active=np.array([-1,-2,-5,3,5,6]),\n",
    "                     frozen=np.array([-1,1,2]))\n",
    "\n",
    "CSB    = np.unique(np.sort(PCI.configuration,axis=1),axis=0)\n",
    "CSB_th = np.unique(np.sort(np.array([[-1,-3,1,2,3],[-1,-2,1,2,3],\n",
    "                                     [-1,-5,1,2,3],[-1,-3,1,2,5],[-1,-3,1,2,6],\n",
    "                                     [-1,-2,1,2,5],[-1,-2,1,2,6],\n",
    "                                     [-1,-5,1,2,5],[-1,-5,1,2,6]]),axis=1),axis=0)\n",
    "\n",
    "# Check results\n",
    "print(\"Multi-reference CISD\")\n",
    "\n",
    "if np.all(CSB == CSB_th):\n",
    "    print(\"  > Pass configuration state basis\")\n",
    "else:\n",
    "    print(\"  > Fail  configuration state basis\")"
   ]
  },
  {
   "cell_type": "markdown",
   "id": "9a112b2a-4f0d-466e-859e-f77333571365",
   "metadata": {},
   "source": [
    "## RAS\n",
    "\n",
    "Finally, we check the configuration state basis building for RAS model"
   ]
  },
  {
   "cell_type": "code",
   "execution_count": 18,
   "id": "6e1d9564-6f91-4dc0-ac2a-837a5d6a7330",
   "metadata": {},
   "outputs": [
    {
     "name": "stdout",
     "output_type": "stream",
     "text": [
      "################################################################################\n",
      "##       Configuration-interaction module for Psi4 with DFT/HF orbitals       ##\n",
      "################################################################################\n",
      "  * Author(s):     G. Visentin & F. Mauger\n",
      "  * Version:       00.01.004\n",
      "  * Last modified: 04/27/2025\n",
      "\n",
      "=== Configuration-state basis ==================================================\n",
      "  * Type        = RAS\n",
      "  * Nb. elec.   = 4\n",
      "  * Total spin  = 0.0\n",
      "  * Active      = [-1 -2 -3 -4 -5]\n",
      "                = [1 2 3 4 5]\n",
      "  * 100 configurations\n",
      "\n",
      "################################################################################\n",
      "\n",
      "RAS\n",
      "  > Pass configuration state basis\n"
     ]
    }
   ],
   "source": [
    "# Configuration state basis\n",
    "PCI.numberElectron = 4\n",
    "PCI.setConfiguration(mode=\"RAS\",active=np.array([-1,-2,-3,-4,-5,1,2,3,4,5]))\n",
    "\n",
    "CSB    = np.unique(np.sort(PCI.configuration,axis=1),axis=0)\n",
    "CSB_th = np.unique(np.sort(np.array([[-1,-2,1,2],[-1,-2,1,3],[-1,-2,1,4],[-1,-2,1,5],\n",
    "                                     [-1,-2,2,3],[-1,-2,2,4],[-1,-2,2,5],\n",
    "                                     [-1,-2,3,4],[-1,-2,3,5],\n",
    "                                     [-1,-2,4,5],\n",
    "                                     [-1,-3,1,2],[-1,-3,1,3],[-1,-3,1,4],[-1,-3,1,5],\n",
    "                                     [-1,-3,2,3],[-1,-3,2,4],[-1,-3,2,5],\n",
    "                                     [-1,-3,3,4],[-1,-3,3,5],\n",
    "                                     [-1,-3,4,5],\n",
    "                                     [-1,-4,1,2],[-1,-4,1,3],[-1,-4,1,4],[-1,-4,1,5],\n",
    "                                     [-1,-4,2,3],[-1,-4,2,4],[-1,-4,2,5],\n",
    "                                     [-1,-4,3,4,],[-1,-4,3,5],\n",
    "                                     [-1,-4,4,5],\n",
    "                                     [-1,-5,1,2],[-1,-5,1,3],[-1,-5,1,4],[-1,-5,1,5],\n",
    "                                     [-1,-5,2,3],[-1,-5,2,4],[-1,-5,2,5],\n",
    "                                     [-1,-5,3,4],[-1,-5,3,5],\n",
    "                                     [-1,-5,4,5],\n",
    "                                     [-2,-3,1,2],[-2,-3,1,3],[-2,-3,1,4],[-2,-3,1,5],\n",
    "                                     [-2,-3,2,3],[-2,-3,2,4],[-2,-3,2,5],\n",
    "                                     [-2,-3,3,4],[-2,-3,3,5],\n",
    "                                     [-2,-3,4,5],\n",
    "                                     [-2,-4,1,2],[-2,-4,1,3],[-2,-4,1,4],[-2,-4,1,5],\n",
    "                                     [-2,-4,2,3],[-2,-4,2,4],[-2,-4,2,5],\n",
    "                                     [-2,-4,3,4],[-2,-4,3,5],\n",
    "                                     [-2,-4,4,5],\n",
    "                                     [-2,-5,1,2],[-2,-5,1,3],[-2,-5,1,4],[-2,-5,1,5],\n",
    "                                     [-2,-5,2,3],[-2,-5,2,4],[-2,-5,2,5],\n",
    "                                     [-2,-5,3,4],[-2,-5,3,5],\n",
    "                                     [-2,-5,4,5],\n",
    "                                     [-3,-4,1,2],[-3,-4,1,3],[-3,-4,1,4],[-3,-4,1,5],\n",
    "                                     [-3,-4,2,3],[-3,-4,2,4],[-3,-4,2,5],\n",
    "                                     [-3,-4,3,4],[-3,-4,3,5],\n",
    "                                     [-3,-4,4,5],\n",
    "                                     [-3,-5,1,2],[-3,-5,1,3],[-3,-5,1,4],[-3,-5,1,5],\n",
    "                                     [-3,-5,2,3],[-3,-5,2,4],[-3,-5,2,5],\n",
    "                                     [-3,-5,3,4],[-3,-5,3,5],\n",
    "                                     [-3,-5,4,5],\n",
    "                                     [-4,-5,1,2],[-4,-5,1,3],[-4,-5,1,4],[-4,-5,1,5],\n",
    "                                     [-4,-5,2,3],[-4,-5,2,4],[-4,-5,2,5],\n",
    "                                     [-4,-5,3,4],[-4,-5,3,5],\n",
    "                                     [-4,-5,4,5]]),axis=1),axis=0)\n",
    "\n",
    "# Check results\n",
    "print(\"RAS\")\n",
    "\n",
    "if np.all(CSB == CSB_th):\n",
    "    print(\"  > Pass configuration state basis\")\n",
    "else:\n",
    "    print(\"  > Fail  configuration state basis\")"
   ]
  },
  {
   "cell_type": "markdown",
   "id": "f90540b4-f876-4e00-ab05-096ef4deb2d8",
   "metadata": {},
   "source": [
    "And lastly, we check the configuration state basis building for RAS model with frozen, and double and empty occupation constraints"
   ]
  },
  {
   "cell_type": "code",
   "execution_count": 19,
   "id": "279b81d9-1308-47cb-b653-a4f626b69a4a",
   "metadata": {},
   "outputs": [
    {
     "name": "stdout",
     "output_type": "stream",
     "text": [
      "################################################################################\n",
      "##       Configuration-interaction module for Psi4 with DFT/HF orbitals       ##\n",
      "################################################################################\n",
      "  * Author(s):     G. Visentin & F. Mauger\n",
      "  * Version:       00.01.004\n",
      "  * Last modified: 04/27/2025\n",
      "\n",
      "=== Configuration-state basis ==================================================\n",
      "  * Type        = RAS\n",
      "  * Nb. elec.   = 5\n",
      "  * Total spin  = 0.5\n",
      "  * Active      = [-1 -2 -3]\n",
      "                = [1 2 3 4]\n",
      "  * Frozen      = [-1  2]\n",
      "  * No double   = [3]\n",
      "  * Not empty   = [3]\n",
      "  * 3 configurations\n",
      "\n",
      "################################################################################\n",
      "\n",
      "RAS with frozen, and double and empty occupation constraints\n",
      "  > Pass configuration state basis\n"
     ]
    }
   ],
   "source": [
    "# Configuration state basis\n",
    "PCI.numberElectron = 4\n",
    "PCI.setConfiguration(mode=\"RAS\",reference=np.array([-1,-2,1,2,3]),active=np.array([-1,-2,-3,1,2,3,4]),\n",
    "                     frozen=np.array([-1,2]),noDouble=np.array([3]),noEmpty=np.array([3]))\n",
    "\n",
    "CSB    = np.unique(np.sort(PCI.configuration,axis=1),axis=0)\n",
    "CSB_th = np.unique(np.sort(np.array([[-1,-2,1,2,3],[-1,-2,4,2,3],[-1,-3,1,2,4]]),axis=1),axis=0)\n",
    "\n",
    "# Check results\n",
    "print(\"RAS with frozen, and double and empty occupation constraints\")\n",
    "\n",
    "if np.all(CSB == CSB_th):\n",
    "    print(\"  > Pass configuration state basis\")\n",
    "else:\n",
    "    print(\"  > Fail  configuration state basis\")"
   ]
  },
  {
   "cell_type": "code",
   "execution_count": null,
   "id": "db9cc1bc-1d34-4bfa-b7ab-e82ce1195714",
   "metadata": {},
   "outputs": [],
   "source": []
  }
 ],
 "metadata": {
  "kernelspec": {
   "display_name": "Python 3 (ipykernel)",
   "language": "python",
   "name": "python3"
  },
  "language_info": {
   "codemirror_mode": {
    "name": "ipython",
    "version": 3
   },
   "file_extension": ".py",
   "mimetype": "text/x-python",
   "name": "python",
   "nbconvert_exporter": "python",
   "pygments_lexer": "ipython3",
   "version": "3.12.8"
  }
 },
 "nbformat": 4,
 "nbformat_minor": 5
}
