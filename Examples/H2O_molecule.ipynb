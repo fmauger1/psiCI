{
 "cells": [
  {
   "cell_type": "markdown",
   "id": "64ba028e-2bfc-4b64-99b9-f61d1baea7f1",
   "metadata": {},
   "source": [
    "# psiCI: H$_2$O\n",
    "\n",
    "We use the `psiCI` module to calculate the electronic structure of the H$_2$O molecule. As the first step is to define the molecular model and use `psi4` to claculate a ground-state orbitals basis."
   ]
  },
  {
   "cell_type": "code",
   "execution_count": 1,
   "id": "ce55bab8-ceb4-42b5-86a7-49dabdaa5a0f",
   "metadata": {},
   "outputs": [],
   "source": [
    "# Import proper packages\n",
    "import psi4\n",
    "import numpy as np\n",
    "import psiCI\n",
    "\n",
    "# Molecular model\n",
    "H2O = psi4.geometry(\"\"\"\n",
    "        0 1\n",
    "        O\n",
    "        H 1 1.0\n",
    "        H 1 1.0 2 104.5\n",
    "        symmetry c1 \"\"\")\n",
    "\n",
    "# psi4 parameters\n",
    "psi4.set_options({\n",
    "        'basis':        'cc-pvtz',\n",
    "        'scf_type':     'pk',\n",
    "        'reference':    'rhf',\n",
    "        'mp2_type':     'conv',\n",
    "        'e_convergence': 1e-10,\n",
    "        'd_convergence': 1e-10})\n",
    "\n",
    "# DFT ground-state orbitals\n",
    "scf_e, wfn = psi4.energy('b3lyp', return_wfn=True)"
   ]
  },
  {
   "cell_type": "markdown",
   "id": "66784cdb-69ea-4a2f-b995-eb14fdf28887",
   "metadata": {},
   "source": [
    "H$_2$O is a closed shell molecule with 10 electrons in totals and 5 occupied molecular orbitals. We include the following 10 virtual orbitals in the active space and perform a CISD level calculation."
   ]
  },
  {
   "cell_type": "code",
   "execution_count": 2,
   "id": "57d4d61b-3d23-4e8d-b1ea-de9ba6d9a0e3",
   "metadata": {},
   "outputs": [
    {
     "name": "stdout",
     "output_type": "stream",
     "text": [
      "Occupied orbital energies (eV):\n",
      "  > orbital 1 = -520.4731295512854\n",
      "  > orbital 2 = -27.000327135391572\n",
      "  > orbital 3 = -13.96518788892591\n",
      "  > orbital 4 = -10.404541193932918\n",
      "  > orbital 5 = -8.34191270574848\n",
      "\n",
      "Virtual orbital energies (ev)\n",
      "  > orbital 6 = 0.45459718328193094\n",
      "  > orbital 7 = 2.399665712970393\n",
      "  > orbital 8 = 9.556827290354855\n",
      "  > orbital 9 = 10.656347502308163\n",
      "  > orbital 10 = 13.544387708324686\n",
      "  > orbital 11 = 15.710512771787737\n",
      "  > orbital 12 = 16.837414200332525\n",
      "  > orbital 13 = 16.83871388421553\n",
      "  > orbital 14 = 18.218116146424197\n",
      "  > orbital 15 = 20.98002445023277\n",
      " \n",
      "################################################################################\n",
      "##       Configuration-interaction module for Psi4 with DFT/HF orbitals       ##\n",
      "################################################################################\n",
      "  * Author(s):     G. Visentin & F. Mauger\n",
      "  * Version:       00.01.002\n",
      "  * Last modified: 03/04/2025\n",
      "\n",
      "=== Configuration-state basis ==================================================\n",
      "  * Type        = CISD\n",
      "  * Total spin  = 0.0\n",
      "  * Reference   = [-1 -2 -3 -4 -5  1  2  3  4  5]\n",
      "  * Excitations = [ 6  7  8  9 10 11 12 13 14 15]\n",
      "                  [ -6  -7  -8  -9 -10 -11 -12 -13 -14 -15]\n",
      "  * 3501 configurations\n",
      "\n",
      "################################################################################\n",
      "\n",
      "################################################################################\n",
      "##       Configuration-interaction module for Psi4 with DFT/HF orbitals       ##\n",
      "################################################################################\n",
      "  * Author(s):     G. Visentin & F. Mauger\n",
      "  * Version:       00.01.002\n",
      "  * Last modified: 03/04/2025\n",
      "\n",
      "=== Electronic structure =======================================================\n",
      "  * 10 electrons\n",
      "  * 58 spatial orbitals\n",
      "  * 3501 configurations\n",
      "\n",
      "=== Configuration-interaction calculation ======================================\n",
      "  * tolerance: 1e-10\n",
      "  * 15 active spatial orbitals\n",
      "\n",
      "=== CI matrix calculation ======================================================\n",
      "  * Core Hamiltonian                                                        done\n",
      "  * Two-electron integrals                                                  done\n",
      "  * CI matrix                |||||||||||||||||||||||||||||||||||||||||||||||||||\n",
      "\n",
      "################################################################################\n",
      "\n"
     ]
    }
   ],
   "source": [
    "# Check orbitals\n",
    "E = psiCI.au2ev(wfn.epsilon_a().np)\n",
    "print(\"Occupied orbital energies (eV):\")\n",
    "for k in range(5):\n",
    "     print(\"  > orbital \" + str(k+1) + \" = \" + str(E[k]))\n",
    "\n",
    "print(\"\\nVirtual orbital energies (ev)\")\n",
    "for k in range(5,15):\n",
    "     print(\"  > orbital \" + str(k+1) + \" = \" + str(E[k]))\n",
    "\n",
    "print(\" \")\n",
    "\n",
    "# Set the CI model\n",
    "PCI = psiCI.psiCI(wfn)\n",
    "\n",
    "MO = np.asarray(range(1,16))\n",
    "SO = np.concatenate((-MO,MO))\n",
    "PCI.setConfiguration(mode=\"CISD\",active=SO)\n",
    "\n",
    "# Compute the CI matrix\n",
    "CI = PCI.computeCI()"
   ]
  },
  {
   "cell_type": "markdown",
   "id": "9d4e83aa-02d6-4ab1-9872-083d3b1cc649",
   "metadata": {},
   "source": [
    "Finally, we look at the ground and first 5 excited states of the CI matrix."
   ]
  },
  {
   "cell_type": "code",
   "execution_count": 3,
   "id": "2b0ee8e0-c418-4fa1-ba88-de9551808b16",
   "metadata": {},
   "outputs": [
    {
     "name": "stdout",
     "output_type": "stream",
     "text": [
      "################################################################################\n",
      "##       Configuration-interaction module for Psi4 with DFT/HF orbitals       ##\n",
      "################################################################################\n",
      "  * Author(s):     G. Visentin & F. Mauger\n",
      "  * Version:       00.01.002\n",
      "  * Last modified: 03/04/2025\n",
      "\n",
      "=== CI matrix spectrum =========================================================\n",
      "  * Ground state\n",
      "    Total energy      =    -84.941 a.u. =  -2311.364 eV\n",
      "    >  96.049 % [-1 -2 -3 -4 -5  1  2  3  4  5]\n",
      "\n",
      "  * Excited state 1\n",
      "    Total energy      =    -84.647 a.u. =  -2303.356 eV\n",
      "    Excitation energy =      0.294 a.u. =      8.008 eV\n",
      "    >  46.596 % [-1 -2 -3 -4 -6  1  2  3  4  5]\n",
      "    >  46.596 % [-1 -2 -3 -4 -5  1  2  3  4  6]\n",
      "\n",
      "  * Excited state 2\n",
      "    Total energy      =    -84.627 a.u. =  -2302.805 eV\n",
      "    Excitation energy =      0.315 a.u. =      8.559 eV\n",
      "    >  46.494 % [-1 -2 -3 -4 -6  1  2  3  4  5]\n",
      "    >  46.494 % [-1 -2 -3 -4 -5  1  2  3  4  6]\n",
      "\n",
      "  * Excited state 3\n",
      "    Total energy      =    -84.567 a.u. =  -2301.182 eV\n",
      "    Excitation energy =      0.374 a.u. =     10.182 eV\n",
      "    >  46.483 % [-1 -2 -3 -4 -7  1  2  3  4  5]\n",
      "    >  46.483 % [-1 -2 -3 -4 -5  1  2  3  4  7]\n",
      "\n",
      "  * Excited state 4\n",
      "    Total energy      =    -84.562 a.u. =  -2301.046 eV\n",
      "    Excitation energy =      0.379 a.u. =     10.318 eV\n",
      "    >  46.556 % [-1 -2 -3 -6 -5  1  2  3  4  5]\n",
      "    >  46.556 % [-1 -2 -3 -4 -5  1  2  3  6  5]\n",
      "\n",
      "  * Excited state 5\n",
      "    Total energy      =    -84.555 a.u. =  -2300.855 eV\n",
      "    Excitation energy =      0.386 a.u. =     10.510 eV\n",
      "    >  46.479 % [-1 -2 -3 -4 -7  1  2  3  4  5]\n",
      "    >  46.479 % [-1 -2 -3 -4 -5  1  2  3  4  7]\n",
      "\n",
      "################################################################################\n",
      "\n"
     ]
    }
   ],
   "source": [
    "PCI.analyzeSpectrum(CI,np.asarray(range(1,6)))"
   ]
  }
 ],
 "metadata": {
  "kernelspec": {
   "display_name": "Python 3 (ipykernel)",
   "language": "python",
   "name": "python3"
  },
  "language_info": {
   "codemirror_mode": {
    "name": "ipython",
    "version": 3
   },
   "file_extension": ".py",
   "mimetype": "text/x-python",
   "name": "python",
   "nbconvert_exporter": "python",
   "pygments_lexer": "ipython3",
   "version": "3.12.8"
  }
 },
 "nbformat": 4,
 "nbformat_minor": 5
}
