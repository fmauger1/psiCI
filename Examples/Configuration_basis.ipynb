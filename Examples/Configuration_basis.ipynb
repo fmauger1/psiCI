{
 "cells": [
  {
   "cell_type": "markdown",
   "id": "9108e992-31e6-40d1-a2db-ee0c7bb071dc",
   "metadata": {},
   "source": [
    "# PsiCI: effect of the configuration basis on CI results\n",
    "\n",
    "We illustrate the effect of using different configuration bases in configuration-interaction (CI) calculations with the `PsiCI` module."
   ]
  },
  {
   "cell_type": "code",
   "execution_count": 1,
   "id": "97625dcc-5de6-4f0f-9643-29714d0a17dc",
   "metadata": {},
   "outputs": [],
   "source": [
    "import psi4\n",
    "import numpy as np\n",
    "import psiCI"
   ]
  },
  {
   "cell_type": "markdown",
   "id": "7184aa13-edac-4c23-91c1-275dcdaaedeb",
   "metadata": {},
   "source": [
    "# Molecular model\n",
    "\n",
    "As usual, A preliminary step for the CI calculation is to define the molecular model and `psi4` claculation parameters."
   ]
  },
  {
   "cell_type": "code",
   "execution_count": 2,
   "id": "63346c5e-5a11-4942-9474-ba150719d6b3",
   "metadata": {},
   "outputs": [],
   "source": [
    "# Molecular model\n",
    "mol = psi4.geometry(\"\"\"\n",
    "         0 1\n",
    "         H   0.865 0 0\n",
    "         Li -0.865 0 0\n",
    "         symmetry c1 \"\"\")\n",
    "\n",
    "# psi4 parameters\n",
    "psi4.set_options({\n",
    "        'basis':        'cc-pvtz',\n",
    "        'scf_type':     'pk',\n",
    "        'reference':    'rhf',\n",
    "        'mp2_type':     'conv',\n",
    "        'e_convergence': 1e-9,\n",
    "        'd_convergence': 1e-9})"
   ]
  },
  {
   "cell_type": "markdown",
   "id": "83d85ec4-1fe7-4dae-a95b-f47c34aa060b",
   "metadata": {},
   "source": [
    "# CI with HF orbitals\n",
    "\n",
    "In this section, we look at the results of CI calculations using Hartree-Fock orbitals for the configuration-state basis. We start by calculating the HF ground-state with `psi4`"
   ]
  },
  {
   "cell_type": "code",
   "execution_count": 3,
   "id": "a754df58-07fc-43a1-bde2-e12b8832b36f",
   "metadata": {},
   "outputs": [
    {
     "name": "stdout",
     "output_type": "stream",
     "text": [
      "HF orbitals energies (eV)\n",
      "  > orbital 1 = -66.8973411684478\n",
      "  > orbital 2 = -7.995883660420343\n",
      "  > orbital 3 = -0.07896307527438816\n",
      "  > orbital 4 = 0.916776346861161\n",
      "  > orbital 5 = 0.916776346861216\n",
      "  > orbital 6 = 2.0416386869900314\n",
      "  > orbital 7 = 3.4407687471187827\n",
      "  > orbital 8 = 3.440768747118819\n",
      "  > orbital 9 = 3.4889251902654124\n",
      "  > orbital 10 = 4.962544677204223\n"
     ]
    }
   ],
   "source": [
    "# HF ground state\n",
    "scf_e, wfn = psi4.energy('scf', return_wfn=True)\n",
    "\n",
    "# Print out the orbital energies\n",
    "E = psiCI.au2ev(wfn.epsilon_a().np)\n",
    "E = E[E < 5]\n",
    "print(\"HF orbitals energies (eV)\")\n",
    "for k in range(len(E)):\n",
    "    print(\"  > orbital \" + str(k+1) + \" = \" + str(E[k]))"
   ]
  },
  {
   "cell_type": "markdown",
   "id": "1596b749-e97b-4bbe-a6b1-851f25975456",
   "metadata": {},
   "source": [
    "We limit our active CI space to orbitals with energy smaller than 5 eV and set a full CI with single excitations (CIS) to those orbitals"
   ]
  },
  {
   "cell_type": "code",
   "execution_count": 4,
   "id": "11b29b24-42e0-48b2-8210-48359682a9b4",
   "metadata": {},
   "outputs": [
    {
     "name": "stdout",
     "output_type": "stream",
     "text": [
      "################################################################################\n",
      "##       Configuration-interaction module for Psi4 with DFT/HF orbitals       ##\n",
      "################################################################################\n",
      "  * Author(s):     G. Visentin & F. Mauger\n",
      "  * Version:       00.01.002\n",
      "  * Last modified: 03/04/2025\n",
      "\n",
      "=== Configuration-state basis ==================================================\n",
      "  * Type        = CIS\n",
      "  * Total spin  = 0.0\n",
      "  * Reference   = [-1 -2  1  2]\n",
      "  * Excitations = [ 3  4  5  6  7  8  9 10]\n",
      "                  [ -3  -4  -5  -6  -7  -8  -9 -10]\n",
      "  * 33 configurations\n",
      "\n",
      "################################################################################\n",
      "\n"
     ]
    }
   ],
   "source": [
    "# Create the psiCI object\n",
    "PCI = psiCI.psiCI(wfn)\n",
    "\n",
    "# Set configuration state basis\n",
    "MO = np.asarray(range(1,len(E)+1));\n",
    "SO = np.concatenate((-MO,MO))\n",
    "\n",
    "PCI.setConfiguration(mode=\"CIS\",active=SO)"
   ]
  },
  {
   "cell_type": "markdown",
   "id": "4cc20eef-2c3b-452e-825d-a00f862e2930",
   "metadata": {},
   "source": [
    "We can now perform the CI-matrix calculation and display the resulting ground state"
   ]
  },
  {
   "cell_type": "code",
   "execution_count": 5,
   "id": "e6f4d738-df5e-4569-a855-afa3dc9f9c29",
   "metadata": {},
   "outputs": [
    {
     "name": "stdout",
     "output_type": "stream",
     "text": [
      "################################################################################\n",
      "##       Configuration-interaction module for Psi4 with DFT/HF orbitals       ##\n",
      "################################################################################\n",
      "  * Author(s):     G. Visentin & F. Mauger\n",
      "  * Version:       00.01.002\n",
      "  * Last modified: 03/04/2025\n",
      "\n",
      "=== Electronic structure =======================================================\n",
      "  * 4 electrons\n",
      "  * 44 spatial orbitals\n",
      "  * 33 configurations\n",
      "\n",
      "=== Configuration-interaction calculation ======================================\n",
      "  * tolerance: 1e-10\n",
      "  * 10 active spatial orbitals\n",
      "\n",
      "=== CI matrix calculation ======================================================\n",
      "  * Core Hamiltonian                                                        done\n",
      "  * Two-electron integrals                                                  done\n",
      "  * CI matrix                                                               done\n",
      "\n",
      "################################################################################\n",
      "\n",
      "################################################################################\n",
      "##       Configuration-interaction module for Psi4 with DFT/HF orbitals       ##\n",
      "################################################################################\n",
      "  * Author(s):     G. Visentin & F. Mauger\n",
      "  * Version:       00.01.002\n",
      "  * Last modified: 03/04/2025\n",
      "\n",
      "=== CI matrix spectrum =========================================================\n",
      "  * Ground state\n",
      "    Total energy      =     -8.903 a.u. =   -242.255 eV\n",
      "    > 100.000 % [-1 -2  1  2]\n",
      "\n",
      "################################################################################\n",
      "\n"
     ]
    }
   ],
   "source": [
    "CI = PCI.computeCI()\n",
    "PCI.analyzeSpectrum(CI)"
   ]
  },
  {
   "cell_type": "markdown",
   "id": "e526b510-4df3-427a-924a-62caef9b64a0",
   "metadata": {},
   "source": [
    "We know that this is the same as the HF ground state (indeed, the CIS ground state is composed of 100% reference). To improve upon this, we expand the configuration-state basis to include single and double excitations (CISD), keeping the same active space of HF orbitals with less than 5 eV energy."
   ]
  },
  {
   "cell_type": "code",
   "execution_count": 6,
   "id": "9b28b6c0-3f19-4459-abdf-f17f50b4bb18",
   "metadata": {},
   "outputs": [
    {
     "name": "stdout",
     "output_type": "stream",
     "text": [
      "################################################################################\n",
      "##       Configuration-interaction module for Psi4 with DFT/HF orbitals       ##\n",
      "################################################################################\n",
      "  * Author(s):     G. Visentin & F. Mauger\n",
      "  * Version:       00.01.002\n",
      "  * Last modified: 03/04/2025\n",
      "\n",
      "=== Configuration-state basis ==================================================\n",
      "  * Type        = CISD\n",
      "  * Total spin  = 0.0\n",
      "  * Reference   = [-1 -2  1  2]\n",
      "  * Excitations = [ 3  4  5  6  7  8  9 10]\n",
      "                  [ -3  -4  -5  -6  -7  -8  -9 -10]\n",
      "  * 345 configurations\n",
      "\n",
      "################################################################################\n",
      "\n",
      "################################################################################\n",
      "##       Configuration-interaction module for Psi4 with DFT/HF orbitals       ##\n",
      "################################################################################\n",
      "  * Author(s):     G. Visentin & F. Mauger\n",
      "  * Version:       00.01.002\n",
      "  * Last modified: 03/04/2025\n",
      "\n",
      "=== Electronic structure =======================================================\n",
      "  * 4 electrons\n",
      "  * 44 spatial orbitals\n",
      "  * 345 configurations\n",
      "\n",
      "=== Configuration-interaction calculation ======================================\n",
      "  * tolerance: 1e-10\n",
      "  * 10 active spatial orbitals\n",
      "\n",
      "=== CI matrix calculation ======================================================\n",
      "  * Core Hamiltonian                                                        done\n",
      "  * Two-electron integrals                                                  done\n",
      "  * CI matrix                                                               done\n",
      "\n",
      "################################################################################\n",
      "\n",
      "################################################################################\n",
      "##       Configuration-interaction module for Psi4 with DFT/HF orbitals       ##\n",
      "################################################################################\n",
      "  * Author(s):     G. Visentin & F. Mauger\n",
      "  * Version:       00.01.002\n",
      "  * Last modified: 03/04/2025\n",
      "\n",
      "=== CI matrix spectrum =========================================================\n",
      "  * Ground state\n",
      "    Total energy      =     -8.905 a.u. =   -242.309 eV\n",
      "    >  99.569 % [-1 -2  1  2]\n",
      "\n",
      "################################################################################\n",
      "\n"
     ]
    }
   ],
   "source": [
    "# Update configuration state basis\n",
    "PCI.setConfiguration(mode=\"CISD\",active=SO)\n",
    "\n",
    "# Recalculate the CI matrix and display the new ground state\n",
    "CI = PCI.computeCI()\n",
    "PCI.analyzeSpectrum(CI)"
   ]
  },
  {
   "cell_type": "markdown",
   "id": "65edee04-a352-4a39-90f4-6844cc2fc08f",
   "metadata": {},
   "source": [
    "With adding the double excitations, the ground state gets about 0.5% population from configuration states other than the reference and its energy is loweved by 0.05 eV."
   ]
  },
  {
   "cell_type": "markdown",
   "id": "b591c11b-62d4-49da-8e7f-a3d1f7ba88bc",
   "metadata": {},
   "source": [
    "# CI with DFT orbitals\n",
    "\n",
    "In this section we repeat the analysis of the previous section using density-functional theory (DFT) orbitals instead of the HF ones. For that, we update the `psi4` parameters to DFT and recalculate the ground-state orbitals"
   ]
  },
  {
   "cell_type": "code",
   "execution_count": 7,
   "id": "513ba114-0d4a-4357-9496-6ba07a83202e",
   "metadata": {},
   "outputs": [
    {
     "name": "stdout",
     "output_type": "stream",
     "text": [
      "HF orbitals energies (eV)\n",
      "  > orbital 1 = -54.77445559803659\n",
      "  > orbital 2 = -5.205345261235375\n",
      "  > orbital 3 = -1.4798536116209933\n",
      "  > orbital 4 = -0.2590248127422943\n",
      "  > orbital 5 = -0.2590248127419164\n",
      "  > orbital 6 = 1.063699546267322\n",
      "  > orbital 7 = 1.8121157621780182\n",
      "  > orbital 8 = 1.8121157621790105\n",
      "  > orbital 9 = 1.8986050827021106\n",
      "  > orbital 10 = 3.1727553156394377\n",
      "  > orbital 11 = 3.9362261441563486\n",
      "  > orbital 12 = 3.936226144156379\n",
      "  > orbital 13 = 4.015415574226257\n",
      "  > orbital 14 = 4.015416330217502\n"
     ]
    }
   ],
   "source": [
    "# HF ground state\n",
    "scf_e, wfn = psi4.energy('b3lyp', return_wfn=True)\n",
    "\n",
    "# Print out the orbital energies\n",
    "E = psiCI.au2ev(wfn.epsilon_a().np)\n",
    "E = E[E < 5]\n",
    "print(\"HF orbitals energies (eV)\")\n",
    "for k in range(len(E)):\n",
    "    print(\"  > orbital \" + str(k+1) + \" = \" + str(E[k]))"
   ]
  },
  {
   "cell_type": "markdown",
   "id": "ac185780-7aa5-43e4-8aa3-3010c6ad0118",
   "metadata": {},
   "source": [
    "Next, we perform a CIS calculation with an active space including all orbitals with energy smaller than 5 eV (note that we have more orbitals than in the HF case)"
   ]
  },
  {
   "cell_type": "code",
   "execution_count": 8,
   "id": "61951334-529c-48b1-a886-e1c2b1571cee",
   "metadata": {},
   "outputs": [
    {
     "name": "stdout",
     "output_type": "stream",
     "text": [
      "################################################################################\n",
      "##       Configuration-interaction module for Psi4 with DFT/HF orbitals       ##\n",
      "################################################################################\n",
      "  * Author(s):     G. Visentin & F. Mauger\n",
      "  * Version:       00.01.002\n",
      "  * Last modified: 03/04/2025\n",
      "\n",
      "=== Configuration-state basis ==================================================\n",
      "  * Type        = CIS\n",
      "  * Total spin  = 0.0\n",
      "  * Reference   = [-1 -2  1  2]\n",
      "  * Excitations = [ 3  4  5  6  7  8  9 10 11 12 13 14]\n",
      "                  [ -3  -4  -5  -6  -7  -8  -9 -10 -11 -12 -13 -14]\n",
      "  * 49 configurations\n",
      "\n",
      "################################################################################\n",
      "\n",
      "################################################################################\n",
      "##       Configuration-interaction module for Psi4 with DFT/HF orbitals       ##\n",
      "################################################################################\n",
      "  * Author(s):     G. Visentin & F. Mauger\n",
      "  * Version:       00.01.002\n",
      "  * Last modified: 03/04/2025\n",
      "\n",
      "=== Electronic structure =======================================================\n",
      "  * 4 electrons\n",
      "  * 44 spatial orbitals\n",
      "  * 49 configurations\n",
      "\n",
      "=== Configuration-interaction calculation ======================================\n",
      "  * tolerance: 1e-10\n",
      "  * 14 active spatial orbitals\n",
      "\n",
      "=== CI matrix calculation ======================================================\n",
      "  * Core Hamiltonian                                                        done\n",
      "  * Two-electron integrals                                                  done\n",
      "  * CI matrix                                                               done\n",
      "\n",
      "################################################################################\n",
      "\n",
      "################################################################################\n",
      "##       Configuration-interaction module for Psi4 with DFT/HF orbitals       ##\n",
      "################################################################################\n",
      "  * Author(s):     G. Visentin & F. Mauger\n",
      "  * Version:       00.01.002\n",
      "  * Last modified: 03/04/2025\n",
      "\n",
      "=== CI matrix spectrum =========================================================\n",
      "  * Ground state\n",
      "    Total energy      =     -8.902 a.u. =   -242.227 eV\n",
      "    >  99.742 % [-1 -2  1  2]\n",
      "\n",
      "################################################################################\n",
      "\n"
     ]
    }
   ],
   "source": [
    "# Create the psiCI object\n",
    "PCI = psiCI.psiCI(wfn)\n",
    "\n",
    "# Set configuration state basis\n",
    "MO = np.asarray(range(1,len(E)+1));\n",
    "SO = np.concatenate((-MO,MO))\n",
    "\n",
    "PCI.setConfiguration(mode=\"CIS\",active=SO)\n",
    "\n",
    "# Compute the CIS matrix and display results\n",
    "CI = PCI.computeCI()\n",
    "\n",
    "PCI.analyzeSpectrum(CI)"
   ]
  },
  {
   "cell_type": "markdown",
   "id": "c051d24c-3967-4114-b584-f81b8c8ee50e",
   "metadata": {},
   "source": [
    "The DFT-orbital ground state wave function is almost exclusively single determinantal, with less than 1% population from single-excitation configuration states. The corresponding energy is slightly higher than with HF orbitals, indicating that in this case, we are probably not improving on the HF ground state."
   ]
  },
  {
   "cell_type": "code",
   "execution_count": 9,
   "id": "3ba1d857-7f53-4b4f-8552-bddcce1e40a4",
   "metadata": {},
   "outputs": [
    {
     "name": "stdout",
     "output_type": "stream",
     "text": [
      "################################################################################\n",
      "##       Configuration-interaction module for Psi4 with DFT/HF orbitals       ##\n",
      "################################################################################\n",
      "  * Author(s):     G. Visentin & F. Mauger\n",
      "  * Version:       00.01.002\n",
      "  * Last modified: 03/04/2025\n",
      "\n",
      "=== Configuration-state basis ==================================================\n",
      "  * Type        = CISD\n",
      "  * Total spin  = 0.0\n",
      "  * Reference   = [-1 -2  1  2]\n",
      "  * Excitations = [ 3  4  5  6  7  8  9 10 11 12 13 14]\n",
      "                  [ -3  -4  -5  -6  -7  -8  -9 -10 -11 -12 -13 -14]\n",
      "  * 757 configurations\n",
      "\n",
      "################################################################################\n",
      "\n",
      "################################################################################\n",
      "##       Configuration-interaction module for Psi4 with DFT/HF orbitals       ##\n",
      "################################################################################\n",
      "  * Author(s):     G. Visentin & F. Mauger\n",
      "  * Version:       00.01.002\n",
      "  * Last modified: 03/04/2025\n",
      "\n",
      "=== Electronic structure =======================================================\n",
      "  * 4 electrons\n",
      "  * 44 spatial orbitals\n",
      "  * 757 configurations\n",
      "\n",
      "=== Configuration-interaction calculation ======================================\n",
      "  * tolerance: 1e-10\n",
      "  * 14 active spatial orbitals\n",
      "\n",
      "=== CI matrix calculation ======================================================\n",
      "  * Core Hamiltonian                                                        done\n",
      "  * Two-electron integrals                                                  done\n",
      "  * CI matrix                |||||||||||||||||||||||||||||||||||||||||||||||||||\n",
      "\n",
      "################################################################################\n",
      "\n",
      "################################################################################\n",
      "##       Configuration-interaction module for Psi4 with DFT/HF orbitals       ##\n",
      "################################################################################\n",
      "  * Author(s):     G. Visentin & F. Mauger\n",
      "  * Version:       00.01.002\n",
      "  * Last modified: 03/04/2025\n",
      "\n",
      "=== CI matrix spectrum =========================================================\n",
      "  * Ground state\n",
      "    Total energy      =     -8.908 a.u. =   -242.396 eV\n",
      "    >  98.914 % [-1 -2  1  2]\n",
      "\n",
      "################################################################################\n",
      "\n"
     ]
    }
   ],
   "source": [
    "# Update configuration state basis\n",
    "PCI.setConfiguration(mode=\"CISD\",active=SO)\n",
    "\n",
    "# Recalculate the CI matrix and display the new ground state\n",
    "CI = PCI.computeCI()\n",
    "PCI.analyzeSpectrum(CI)"
   ]
  },
  {
   "cell_type": "markdown",
   "id": "183daa6f-899a-4d75-b4c9-4f54f484a6d7",
   "metadata": {},
   "source": [
    "We now have the ground-state wave function composed of slightly over 1% population from configuration states other than the reference and the energy is 0.09 eV lower than that of HF. "
   ]
  }
 ],
 "metadata": {
  "kernelspec": {
   "display_name": "Python 3 (ipykernel)",
   "language": "python",
   "name": "python3"
  },
  "language_info": {
   "codemirror_mode": {
    "name": "ipython",
    "version": 3
   },
   "file_extension": ".py",
   "mimetype": "text/x-python",
   "name": "python",
   "nbconvert_exporter": "python",
   "pygments_lexer": "ipython3",
   "version": "3.12.8"
  }
 },
 "nbformat": 4,
 "nbformat_minor": 5
}
